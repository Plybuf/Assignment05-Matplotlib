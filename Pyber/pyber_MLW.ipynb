{
 "cells": [
  {
   "cell_type": "markdown",
   "metadata": {},
   "source": [
    "### Observations for the Pyber dataset"
   ]
  },
  {
   "cell_type": "markdown",
   "metadata": {},
   "source": [
    "- Ride-sharing is a lot more popular in urban areas, where people are less likely to own a car or want to take public transportation.\n",
    "- The average fare for the Rural and Suburban riders was higher than in the Urban city.  This is likely because Urban riders travel a smaller distance than those in sparsely populated areas.\n",
    "- While the total % of fares and rides were similar for Urban areas, the total number of drivers was much higher in those urban areas. The quantity of urban ride shares out-weighed their lower fare values."
   ]
  },
  {
   "cell_type": "code",
   "execution_count": 1,
   "metadata": {},
   "outputs": [],
   "source": [
    "#%matplotlib inline\n",
    "# Dependencies and Setup\n",
    "import matplotlib.pyplot as plt\n",
    "import pandas as pd\n",
    "import numpy as np"
   ]
  },
  {
   "cell_type": "code",
   "execution_count": 2,
   "metadata": {},
   "outputs": [],
   "source": [
    "# Files to Load \n",
    "city_data_to_load = pd.read_csv(\"data/city_data.csv\")\n",
    "ride_data_to_load = pd.read_csv(\"data/ride_data.csv\")"
   ]
  },
  {
   "cell_type": "code",
   "execution_count": 3,
   "metadata": {},
   "outputs": [
    {
     "data": {
      "text/plain": [
       "Urban       66\n",
       "Suburban    36\n",
       "Rural       18\n",
       "Name: type, dtype: int64"
      ]
     },
     "execution_count": 3,
     "metadata": {},
     "output_type": "execute_result"
    }
   ],
   "source": [
    "city_data_to_load[\"type\"].value_counts()"
   ]
  },
  {
   "cell_type": "code",
   "execution_count": 4,
   "metadata": {},
   "outputs": [
    {
     "data": {
      "text/html": [
       "<div>\n",
       "<style scoped>\n",
       "    .dataframe tbody tr th:only-of-type {\n",
       "        vertical-align: middle;\n",
       "    }\n",
       "\n",
       "    .dataframe tbody tr th {\n",
       "        vertical-align: top;\n",
       "    }\n",
       "\n",
       "    .dataframe thead th {\n",
       "        text-align: right;\n",
       "    }\n",
       "</style>\n",
       "<table border=\"1\" class=\"dataframe\">\n",
       "  <thead>\n",
       "    <tr style=\"text-align: right;\">\n",
       "      <th></th>\n",
       "      <th>driver_count</th>\n",
       "      <th>fare</th>\n",
       "      <th>ride_id</th>\n",
       "    </tr>\n",
       "  </thead>\n",
       "  <tbody>\n",
       "    <tr>\n",
       "      <th>count</th>\n",
       "      <td>2375.000000</td>\n",
       "      <td>2375.000000</td>\n",
       "      <td>2.375000e+03</td>\n",
       "    </tr>\n",
       "    <tr>\n",
       "      <th>mean</th>\n",
       "      <td>28.930105</td>\n",
       "      <td>26.753112</td>\n",
       "      <td>4.887270e+12</td>\n",
       "    </tr>\n",
       "    <tr>\n",
       "      <th>std</th>\n",
       "      <td>20.666306</td>\n",
       "      <td>12.109465</td>\n",
       "      <td>2.907361e+12</td>\n",
       "    </tr>\n",
       "    <tr>\n",
       "      <th>min</th>\n",
       "      <td>1.000000</td>\n",
       "      <td>4.050000</td>\n",
       "      <td>3.218337e+08</td>\n",
       "    </tr>\n",
       "    <tr>\n",
       "      <th>25%</th>\n",
       "      <td>11.000000</td>\n",
       "      <td>17.190000</td>\n",
       "      <td>2.381175e+12</td>\n",
       "    </tr>\n",
       "    <tr>\n",
       "      <th>50%</th>\n",
       "      <td>23.000000</td>\n",
       "      <td>26.600000</td>\n",
       "      <td>4.748541e+12</td>\n",
       "    </tr>\n",
       "    <tr>\n",
       "      <th>75%</th>\n",
       "      <td>45.000000</td>\n",
       "      <td>36.645000</td>\n",
       "      <td>7.461936e+12</td>\n",
       "    </tr>\n",
       "    <tr>\n",
       "      <th>max</th>\n",
       "      <td>73.000000</td>\n",
       "      <td>58.550000</td>\n",
       "      <td>9.991538e+12</td>\n",
       "    </tr>\n",
       "  </tbody>\n",
       "</table>\n",
       "</div>"
      ],
      "text/plain": [
       "       driver_count         fare       ride_id\n",
       "count   2375.000000  2375.000000  2.375000e+03\n",
       "mean      28.930105    26.753112  4.887270e+12\n",
       "std       20.666306    12.109465  2.907361e+12\n",
       "min        1.000000     4.050000  3.218337e+08\n",
       "25%       11.000000    17.190000  2.381175e+12\n",
       "50%       23.000000    26.600000  4.748541e+12\n",
       "75%       45.000000    36.645000  7.461936e+12\n",
       "max       73.000000    58.550000  9.991538e+12"
      ]
     },
     "execution_count": 4,
     "metadata": {},
     "output_type": "execute_result"
    }
   ],
   "source": [
    "# Read the City and Ride Data\n",
    "\n",
    "# Combine the data into a single dataset\n",
    "city_ride_df = pd.merge(city_data_to_load, ride_data_to_load, how='outer')\n",
    "\n",
    "# Display the data table for preview\n",
    "city_ride_df.describe()"
   ]
  },
  {
   "cell_type": "code",
   "execution_count": 5,
   "metadata": {},
   "outputs": [
    {
     "data": {
      "text/plain": [
       "Urban       1625\n",
       "Suburban     625\n",
       "Rural        125\n",
       "Name: type, dtype: int64"
      ]
     },
     "execution_count": 5,
     "metadata": {},
     "output_type": "execute_result"
    }
   ],
   "source": [
    "city_ride_df[\"type\"].value_counts()"
   ]
  },
  {
   "cell_type": "code",
   "execution_count": 6,
   "metadata": {},
   "outputs": [],
   "source": [
    "# Group by City\n",
    "# Create the following variables for the first part:\n",
    "# total $$ per city, total number of rides per city, total number of drivers per city, city type,\n"
   ]
  },
  {
   "cell_type": "code",
   "execution_count": 7,
   "metadata": {},
   "outputs": [
    {
     "data": {
      "text/plain": [
       "city                  driver_count\n",
       "Amandaburgh           12              18\n",
       "Barajasview           26              22\n",
       "Barronchester         11              16\n",
       "Bethanyland           22              18\n",
       "Bradshawfurt          7               10\n",
       "Brandonfort           10              19\n",
       "Carriemouth           52              27\n",
       "Christopherfurt       41              27\n",
       "Colemanland           23              22\n",
       "Davidfurt             23              17\n",
       "Deanville             49              19\n",
       "East Aaronbury        7                9\n",
       "East Danielview       22              17\n",
       "East Kaylahaven       65              29\n",
       "East Kentstad         20              13\n",
       "East Marymouth        5               27\n",
       "Erikaland             37              12\n",
       "Garzaport             7                3\n",
       "Grahamburgh           61              25\n",
       "Grayville             2               15\n",
       "Harringtonfort        4                6\n",
       "Huntermouth           37              24\n",
       "Hurleymouth           36              28\n",
       "Jerryton              64              25\n",
       "Jessicaport           1                6\n",
       "Johnton               27              21\n",
       "Joneschester          39              25\n",
       "Josephside            25              27\n",
       "Justinberg            39              30\n",
       "Karenberg             22              17\n",
       "                                      ..\n",
       "South Evanton         11              31\n",
       "South Jack            46              19\n",
       "South Jennifer        7                7\n",
       "South Karenland       4               38\n",
       "South Latoya          10              19\n",
       "South Marychester     1                8\n",
       "South Michelleport    72              31\n",
       "South Phillip         38              31\n",
       "South Saramouth       7                4\n",
       "South Teresa          21              22\n",
       "Taylorhaven           1                6\n",
       "Valentineton          45              22\n",
       "Veronicaberg          20              17\n",
       "Victoriaport          16              14\n",
       "West Angela           48              39\n",
       "West Anthony          70              30\n",
       "West Christopherberg  32              26\n",
       "West Ericstad         25              18\n",
       "West Gabriel          57              23\n",
       "West Hannah           12              21\n",
       "West Heather          4                9\n",
       "West Heidi            28              28\n",
       "West Josephberg       45              26\n",
       "West Kimmouth         4               20\n",
       "West Patrickchester   25              16\n",
       "West Robert           39              31\n",
       "West Samuelburgh      73              25\n",
       "Williamsonville       2               14\n",
       "Williamsstad          59              23\n",
       "Williamsview          46              20\n",
       "Name: driver_count, Length: 120, dtype: int64"
      ]
     },
     "execution_count": 7,
     "metadata": {},
     "output_type": "execute_result"
    }
   ],
   "source": [
    "# group by the city...\n",
    "city_group_df = city_ride_df.groupby(\"city\")\n",
    "\n",
    "#glance at the grouped data...\n",
    "city_group_df[\"driver_count\"].value_counts()"
   ]
  },
  {
   "cell_type": "code",
   "execution_count": 8,
   "metadata": {},
   "outputs": [],
   "source": [
    "# variables: total $$ per city, total fare per city, total number of rides per city, total number of drivers per city, city type\n",
    "\n",
    "#total fare (will help calcs)\n",
    "city_total_fare = city_group_df[\"fare\"].sum()\n",
    "\n",
    "#total number of fares per city\n",
    "city_num_fare = city_group_df[\"fare\"].count()\n",
    "\n",
    "# total number of rides per city\n",
    "city_total_rides = city_group_df[\"city\"].count()\n",
    "\n",
    "# total number of drivers per city\n",
    "city_total_driver = city_group_df[\"driver_count\"].sum()\n",
    "\n",
    "# average fare per city\n",
    "city_ave_fare = city_group_df[\"fare\"].mean()\n",
    "\n",
    "# The type of each city\n",
    "city_type = city_ride_df.drop_duplicates(subset=\"city\")"
   ]
  },
  {
   "cell_type": "code",
   "execution_count": 9,
   "metadata": {},
   "outputs": [
    {
     "name": "stderr",
     "output_type": "stream",
     "text": [
      "C:\\Users\\matth\\Anaconda3\\envs\\PythonData\\lib\\site-packages\\pandas\\core\\frame.py:3697: SettingWithCopyWarning: \n",
      "A value is trying to be set on a copy of a slice from a DataFrame\n",
      "\n",
      "See the caveats in the documentation: http://pandas.pydata.org/pandas-docs/stable/indexing.html#indexing-view-versus-copy\n",
      "  errors=errors)\n"
     ]
    }
   ],
   "source": [
    "#now clean up the city_type dataframe so it can be merged with others...\n",
    "city_type.drop([\"driver_count\", \"date\", \"fare\", \"ride_id\"], axis = 1, inplace=True)\n"
   ]
  },
  {
   "cell_type": "code",
   "execution_count": 10,
   "metadata": {},
   "outputs": [
    {
     "data": {
      "text/html": [
       "<div>\n",
       "<style scoped>\n",
       "    .dataframe tbody tr th:only-of-type {\n",
       "        vertical-align: middle;\n",
       "    }\n",
       "\n",
       "    .dataframe tbody tr th {\n",
       "        vertical-align: top;\n",
       "    }\n",
       "\n",
       "    .dataframe thead th {\n",
       "        text-align: right;\n",
       "    }\n",
       "</style>\n",
       "<table border=\"1\" class=\"dataframe\">\n",
       "  <thead>\n",
       "    <tr style=\"text-align: right;\">\n",
       "      <th></th>\n",
       "      <th>city</th>\n",
       "      <th>type</th>\n",
       "    </tr>\n",
       "  </thead>\n",
       "  <tbody>\n",
       "    <tr>\n",
       "      <th>0</th>\n",
       "      <td>Richardfort</td>\n",
       "      <td>Urban</td>\n",
       "    </tr>\n",
       "    <tr>\n",
       "      <th>28</th>\n",
       "      <td>Williamsstad</td>\n",
       "      <td>Urban</td>\n",
       "    </tr>\n",
       "    <tr>\n",
       "      <th>51</th>\n",
       "      <td>Port Angela</td>\n",
       "      <td>Urban</td>\n",
       "    </tr>\n",
       "    <tr>\n",
       "      <th>70</th>\n",
       "      <td>Rodneyfort</td>\n",
       "      <td>Urban</td>\n",
       "    </tr>\n",
       "    <tr>\n",
       "      <th>93</th>\n",
       "      <td>West Robert</td>\n",
       "      <td>Urban</td>\n",
       "    </tr>\n",
       "  </tbody>\n",
       "</table>\n",
       "</div>"
      ],
      "text/plain": [
       "            city   type\n",
       "0    Richardfort  Urban\n",
       "28  Williamsstad  Urban\n",
       "51   Port Angela  Urban\n",
       "70    Rodneyfort  Urban\n",
       "93   West Robert  Urban"
      ]
     },
     "execution_count": 10,
     "metadata": {},
     "output_type": "execute_result"
    }
   ],
   "source": [
    "city_type.head()"
   ]
  },
  {
   "cell_type": "code",
   "execution_count": 11,
   "metadata": {},
   "outputs": [],
   "source": [
    "#now make each stat a dataframe so we can merge...\n",
    "num_fare_df = pd.DataFrame(city_num_fare)\n",
    "num_rides_df = pd.DataFrame(city_total_rides)\n",
    "num_drivers_df = pd.DataFrame(city_total_driver)\n",
    "ave_fare_df = pd.DataFrame(city_ave_fare)\n"
   ]
  },
  {
   "cell_type": "code",
   "execution_count": 12,
   "metadata": {},
   "outputs": [],
   "source": [
    "num_rides_df.rename(columns={\"city\":\"rides\"}, inplace=True)"
   ]
  },
  {
   "cell_type": "code",
   "execution_count": 13,
   "metadata": {},
   "outputs": [],
   "source": [
    "#reset the index for the data frames so we can merge\n",
    "num_fare_df.reset_index(inplace = True)\n",
    "num_rides_df.reset_index(inplace = True)\n",
    "num_drivers_df.reset_index(inplace = True)\n",
    "ave_fare_df.reset_index(inplace = True)\n"
   ]
  },
  {
   "cell_type": "code",
   "execution_count": 14,
   "metadata": {},
   "outputs": [
    {
     "data": {
      "text/html": [
       "<div>\n",
       "<style scoped>\n",
       "    .dataframe tbody tr th:only-of-type {\n",
       "        vertical-align: middle;\n",
       "    }\n",
       "\n",
       "    .dataframe tbody tr th {\n",
       "        vertical-align: top;\n",
       "    }\n",
       "\n",
       "    .dataframe thead th {\n",
       "        text-align: right;\n",
       "    }\n",
       "</style>\n",
       "<table border=\"1\" class=\"dataframe\">\n",
       "  <thead>\n",
       "    <tr style=\"text-align: right;\">\n",
       "      <th></th>\n",
       "      <th>city</th>\n",
       "      <th>type</th>\n",
       "      <th>fare_x</th>\n",
       "      <th>rides</th>\n",
       "      <th>driver_count</th>\n",
       "      <th>fare_y</th>\n",
       "    </tr>\n",
       "  </thead>\n",
       "  <tbody>\n",
       "    <tr>\n",
       "      <th>0</th>\n",
       "      <td>Richardfort</td>\n",
       "      <td>Urban</td>\n",
       "      <td>28</td>\n",
       "      <td>28</td>\n",
       "      <td>1064</td>\n",
       "      <td>22.373214</td>\n",
       "    </tr>\n",
       "    <tr>\n",
       "      <th>1</th>\n",
       "      <td>Williamsstad</td>\n",
       "      <td>Urban</td>\n",
       "      <td>23</td>\n",
       "      <td>23</td>\n",
       "      <td>1357</td>\n",
       "      <td>24.362174</td>\n",
       "    </tr>\n",
       "    <tr>\n",
       "      <th>2</th>\n",
       "      <td>Port Angela</td>\n",
       "      <td>Urban</td>\n",
       "      <td>19</td>\n",
       "      <td>19</td>\n",
       "      <td>1273</td>\n",
       "      <td>23.836842</td>\n",
       "    </tr>\n",
       "    <tr>\n",
       "      <th>3</th>\n",
       "      <td>Rodneyfort</td>\n",
       "      <td>Urban</td>\n",
       "      <td>23</td>\n",
       "      <td>23</td>\n",
       "      <td>782</td>\n",
       "      <td>28.616957</td>\n",
       "    </tr>\n",
       "    <tr>\n",
       "      <th>4</th>\n",
       "      <td>West Robert</td>\n",
       "      <td>Urban</td>\n",
       "      <td>31</td>\n",
       "      <td>31</td>\n",
       "      <td>1209</td>\n",
       "      <td>25.123871</td>\n",
       "    </tr>\n",
       "  </tbody>\n",
       "</table>\n",
       "</div>"
      ],
      "text/plain": [
       "           city   type  fare_x  rides  driver_count     fare_y\n",
       "0   Richardfort  Urban      28     28          1064  22.373214\n",
       "1  Williamsstad  Urban      23     23          1357  24.362174\n",
       "2   Port Angela  Urban      19     19          1273  23.836842\n",
       "3    Rodneyfort  Urban      23     23           782  28.616957\n",
       "4   West Robert  Urban      31     31          1209  25.123871"
      ]
     },
     "execution_count": 14,
     "metadata": {},
     "output_type": "execute_result"
    }
   ],
   "source": [
    "#now merge the dataframes to the \"city_type\" df based on city\n",
    "city_ride_stats = pd.merge(pd.merge(pd.merge(pd.merge(city_type, num_fare_df, on=\"city\"), num_rides_df, on=\"city\"), num_drivers_df, on=\"city\"), ave_fare_df, on=\"city\")\n",
    "city_ride_stats.head()"
   ]
  },
  {
   "cell_type": "code",
   "execution_count": 15,
   "metadata": {},
   "outputs": [],
   "source": [
    "#now drop the extra fare column and rename the average fare value\n",
    "city_ride2_df = city_ride_stats.rename(columns={\"fare_y\":\"average_fare\"})\n",
    "city_ride2_df.drop([\"fare_x\"], axis = 1, inplace=True)"
   ]
  },
  {
   "cell_type": "code",
   "execution_count": 16,
   "metadata": {},
   "outputs": [],
   "source": [
    "df_urban = city_ride2_df.loc[(city_ride2_df[\"type\"] == \"Urban\")]\n",
    "df_suburban = city_ride2_df.loc[(city_ride2_df[\"type\"] == \"Suburban\")]\n",
    "df_rural = city_ride2_df.loc[(city_ride2_df[\"type\"] == \"Rural\")]"
   ]
  },
  {
   "cell_type": "code",
   "execution_count": null,
   "metadata": {},
   "outputs": [],
   "source": []
  },
  {
   "cell_type": "markdown",
   "metadata": {},
   "source": [
    "## Bubble Plot of Ride Sharing Data"
   ]
  },
  {
   "cell_type": "code",
   "execution_count": 79,
   "metadata": {
    "scrolled": true
   },
   "outputs": [
    {
     "data": {
      "image/png": "[encoded data removed]",
      "text/plain": [
       "<Figure size 432x288 with 1 Axes>"
      ]
     },
     "metadata": {},
     "output_type": "display_data"
    },
    {
     "data": {
      "text/plain": [
       "<Figure size 432x288 with 0 Axes>"
      ]
     },
     "metadata": {},
     "output_type": "display_data"
    }
   ],
   "source": [
    "#plt.scatter(city_num_fare, city_ave_fare, marker = \"o\", edgecolors=\"black\", s=city_total_driver/2, alpha=0.5)\n",
    "\n",
    "#fig_urban, = plt.scatter(df_urban.rides, df_urban.average_fare, s=df_urban.driver_count/2, alpha=0.5, marker = 'o', edgecolors=\"black\", c=\"blue\", label = \"Urban\")\n",
    "\n",
    "#fig_suburban, = plt.scatter(df_suburban.rides, df_suburban.average_fare, s=df_suburban.driver_count/2, alpha=0.5, marker = 'o', edgecolors=\"black\", c=\"sky blue\", label = \"Suburban\")\n",
    "\n",
    "#plt.legend(handles=[fig_urban, fig_suburban], loc=\"best\")\n",
    "#plt.show()\n",
    "\n",
    "ax = df_urban.plot(kind='scatter', x=\"rides\", y=\"average_fare\", edgecolors = \"Black\", linewidths = 0.4, color=\"LightCoral\", s=df_urban[\"driver_count\"]/4, alpha=0.8, label=\"Urban\");\n",
    "\n",
    "df_suburban.plot(kind='scatter', x=\"rides\", y=\"average_fare\", edgecolors = \"Black\", linewidths = 0.4, color=\"LightSkyBlue\", s=df_suburban[\"driver_count\"]/4, alpha=0.8, label=\"Suburban\", ax=ax);\n",
    "\n",
    "df_rural.plot(kind='scatter', x=\"rides\", y=\"average_fare\", edgecolors = \"Black\", linewidths = 0.4, color=\"Gold\", s=df_rural[\"driver_count\"]/4, alpha=0.8, label=\"Rural\", ax=ax);\n",
    "\n",
    "plt.title(\"Pyber Ride Sharing Data (2016)\")\n",
    "plt.ylabel(\"Average Fare ($)\")\n",
    "plt.xlabel(\"Total Number of Rides (Per City)\")\n",
    "plt.grid(axis = \"both\")\n",
    "lgnd = plt.legend(loc=\"upper right\", scatterpoints=1, title=\"City Types\")\n",
    "lgnd.legendHandles[0]._sizes = [30]\n",
    "lgnd.legendHandles[1]._sizes = [30]\n",
    "lgnd.legendHandles[2]._sizes = [30]\n",
    "\n",
    "plt.ylim(18,45)\n",
    "plt.xlim(0,41)\n",
    "\n",
    "plt.show()\n",
    "# Save Figure\n",
    "plt.savefig(\"../Images/BubbleCityType.png\")"
   ]
  },
  {
   "cell_type": "markdown",
   "metadata": {},
   "source": [
    "## Total Fares by City Type"
   ]
  },
  {
   "cell_type": "code",
   "execution_count": 20,
   "metadata": {},
   "outputs": [],
   "source": [
    "#to get this, follow the initial steps to get group data, and then break out for fares, rides, and drivers.\n",
    "#group by city type. then get sum of fares for each (later rides & drivers)"
   ]
  },
  {
   "cell_type": "code",
   "execution_count": 21,
   "metadata": {},
   "outputs": [
    {
     "data": {
      "text/html": [
       "<div>\n",
       "<style scoped>\n",
       "    .dataframe tbody tr th:only-of-type {\n",
       "        vertical-align: middle;\n",
       "    }\n",
       "\n",
       "    .dataframe tbody tr th {\n",
       "        vertical-align: top;\n",
       "    }\n",
       "\n",
       "    .dataframe thead th {\n",
       "        text-align: right;\n",
       "    }\n",
       "</style>\n",
       "<table border=\"1\" class=\"dataframe\">\n",
       "  <thead>\n",
       "    <tr style=\"text-align: right;\">\n",
       "      <th></th>\n",
       "      <th>city</th>\n",
       "      <th>driver_count</th>\n",
       "      <th>type</th>\n",
       "      <th>date</th>\n",
       "      <th>fare</th>\n",
       "      <th>ride_id</th>\n",
       "    </tr>\n",
       "  </thead>\n",
       "  <tbody>\n",
       "    <tr>\n",
       "      <th>0</th>\n",
       "      <td>Richardfort</td>\n",
       "      <td>38</td>\n",
       "      <td>Urban</td>\n",
       "      <td>2018-02-24 08:40:38</td>\n",
       "      <td>13.93</td>\n",
       "      <td>5628545007794</td>\n",
       "    </tr>\n",
       "    <tr>\n",
       "      <th>1</th>\n",
       "      <td>Richardfort</td>\n",
       "      <td>38</td>\n",
       "      <td>Urban</td>\n",
       "      <td>2018-02-13 12:46:07</td>\n",
       "      <td>14.00</td>\n",
       "      <td>910050116494</td>\n",
       "    </tr>\n",
       "    <tr>\n",
       "      <th>2</th>\n",
       "      <td>Richardfort</td>\n",
       "      <td>38</td>\n",
       "      <td>Urban</td>\n",
       "      <td>2018-02-16 13:52:19</td>\n",
       "      <td>17.92</td>\n",
       "      <td>820639054416</td>\n",
       "    </tr>\n",
       "    <tr>\n",
       "      <th>3</th>\n",
       "      <td>Richardfort</td>\n",
       "      <td>38</td>\n",
       "      <td>Urban</td>\n",
       "      <td>2018-02-01 20:18:28</td>\n",
       "      <td>10.26</td>\n",
       "      <td>9554935945413</td>\n",
       "    </tr>\n",
       "    <tr>\n",
       "      <th>4</th>\n",
       "      <td>Richardfort</td>\n",
       "      <td>38</td>\n",
       "      <td>Urban</td>\n",
       "      <td>2018-04-17 02:26:37</td>\n",
       "      <td>23.00</td>\n",
       "      <td>720020655850</td>\n",
       "    </tr>\n",
       "  </tbody>\n",
       "</table>\n",
       "</div>"
      ],
      "text/plain": [
       "          city  driver_count   type                 date   fare        ride_id\n",
       "0  Richardfort            38  Urban  2018-02-24 08:40:38  13.93  5628545007794\n",
       "1  Richardfort            38  Urban  2018-02-13 12:46:07  14.00   910050116494\n",
       "2  Richardfort            38  Urban  2018-02-16 13:52:19  17.92   820639054416\n",
       "3  Richardfort            38  Urban  2018-02-01 20:18:28  10.26  9554935945413\n",
       "4  Richardfort            38  Urban  2018-04-17 02:26:37  23.00   720020655850"
      ]
     },
     "execution_count": 21,
     "metadata": {},
     "output_type": "execute_result"
    }
   ],
   "source": [
    "city_ride_df.head()"
   ]
  },
  {
   "cell_type": "code",
   "execution_count": 25,
   "metadata": {},
   "outputs": [
    {
     "data": {
      "text/plain": [
       "2375"
      ]
     },
     "execution_count": 25,
     "metadata": {},
     "output_type": "execute_result"
    }
   ],
   "source": [
    "#first get total overall numbers for calculations\n",
    "total_fare = city_ride_df[\"fare\"].sum()\n",
    "total_ride = city_ride_df[\"ride_id\"].count()\n",
    "total_drivers = city_ride_df[\"driver_count\"].sum()\n",
    "total_ride"
   ]
  },
  {
   "cell_type": "code",
   "execution_count": 28,
   "metadata": {},
   "outputs": [],
   "source": [
    "#group the cities by their type and then calc the different fares variables\n",
    "type_group = city_ride_df.groupby(\"type\")\n",
    "type_fare = type_group[\"fare\"].sum()\n",
    "type_fare_df = pd.DataFrame(type_fare)"
   ]
  },
  {
   "cell_type": "code",
   "execution_count": 30,
   "metadata": {},
   "outputs": [
    {
     "data": {
      "text/html": [
       "<div>\n",
       "<style scoped>\n",
       "    .dataframe tbody tr th:only-of-type {\n",
       "        vertical-align: middle;\n",
       "    }\n",
       "\n",
       "    .dataframe tbody tr th {\n",
       "        vertical-align: top;\n",
       "    }\n",
       "\n",
       "    .dataframe thead th {\n",
       "        text-align: right;\n",
       "    }\n",
       "</style>\n",
       "<table border=\"1\" class=\"dataframe\">\n",
       "  <thead>\n",
       "    <tr style=\"text-align: right;\">\n",
       "      <th></th>\n",
       "      <th>fare</th>\n",
       "      <th>Pct_total_fares</th>\n",
       "    </tr>\n",
       "    <tr>\n",
       "      <th>type</th>\n",
       "      <th></th>\n",
       "      <th></th>\n",
       "    </tr>\n",
       "  </thead>\n",
       "  <tbody>\n",
       "    <tr>\n",
       "      <th>Rural</th>\n",
       "      <td>4327.93</td>\n",
       "      <td>0.068115</td>\n",
       "    </tr>\n",
       "    <tr>\n",
       "      <th>Suburban</th>\n",
       "      <td>19356.33</td>\n",
       "      <td>0.304639</td>\n",
       "    </tr>\n",
       "    <tr>\n",
       "      <th>Urban</th>\n",
       "      <td>39854.38</td>\n",
       "      <td>0.627246</td>\n",
       "    </tr>\n",
       "  </tbody>\n",
       "</table>\n",
       "</div>"
      ],
      "text/plain": [
       "              fare  Pct_total_fares\n",
       "type                               \n",
       "Rural      4327.93         0.068115\n",
       "Suburban  19356.33         0.304639\n",
       "Urban     39854.38         0.627246"
      ]
     },
     "execution_count": 30,
     "metadata": {},
     "output_type": "execute_result"
    }
   ],
   "source": [
    "#get the percentages for the pie chart\n",
    "pct_fare = type_fare_df[\"fare\"]/total_fare\n",
    "type_fare_df[\"Pct_total_fares\"] = pct_fare\n",
    "type_fare_df\n"
   ]
  },
  {
   "cell_type": "code",
   "execution_count": 40,
   "metadata": {},
   "outputs": [],
   "source": [
    "#make new index so city type can be used...\n",
    "type_fare_df.reset_index(inplace=True)\n"
   ]
  },
  {
   "cell_type": "code",
   "execution_count": 45,
   "metadata": {},
   "outputs": [],
   "source": [
    "type_fare_df.rename(columns={\"type\":\"City Type\"}, inplace=True)"
   ]
  },
  {
   "cell_type": "code",
   "execution_count": 68,
   "metadata": {},
   "outputs": [
    {
     "data": {
      "image/png": "[encoded data removed]",
      "text/plain": [
       "<Figure size 432x288 with 1 Axes>"
      ]
     },
     "metadata": {},
     "output_type": "display_data"
    }
   ],
   "source": [
    "# Calculate Type Percents\n",
    "\n",
    "# Build Pie Chart\n",
    "fare_pie = type_fare_df.plot(kind=\"pie\", y=\"Pct_total_fares\", title=\"% of Total Fares by City Type\", labels=[\"Rural\", \"Suburban\", \"Urban\"],\n",
    "                             colors=[\"gold\", \"lightskyblue\", \"lightcoral\"], autopct=\"%2.1f%%\", explode = [0, 0, 0.1], shadow=True, startangle=145, legend=False)\n",
    "fare_pie.set_ylabel('')\n",
    "\n",
    "# Save Figure\n",
    "plt.savefig(\"../Images/FareCityType.png\")"
   ]
  },
  {
   "cell_type": "markdown",
   "metadata": {},
   "source": [
    "## Total Rides by City Type"
   ]
  },
  {
   "cell_type": "code",
   "execution_count": 70,
   "metadata": {},
   "outputs": [],
   "source": [
    "#calc the rides variable\n",
    "type_rides = type_group[\"ride_id\"].count()\n",
    "type_rides_df = pd.DataFrame(type_rides)"
   ]
  },
  {
   "cell_type": "code",
   "execution_count": 71,
   "metadata": {},
   "outputs": [
    {
     "data": {
      "text/html": [
       "<div>\n",
       "<style scoped>\n",
       "    .dataframe tbody tr th:only-of-type {\n",
       "        vertical-align: middle;\n",
       "    }\n",
       "\n",
       "    .dataframe tbody tr th {\n",
       "        vertical-align: top;\n",
       "    }\n",
       "\n",
       "    .dataframe thead th {\n",
       "        text-align: right;\n",
       "    }\n",
       "</style>\n",
       "<table border=\"1\" class=\"dataframe\">\n",
       "  <thead>\n",
       "    <tr style=\"text-align: right;\">\n",
       "      <th></th>\n",
       "      <th>ride_id</th>\n",
       "      <th>Pct_total_rides</th>\n",
       "    </tr>\n",
       "    <tr>\n",
       "      <th>type</th>\n",
       "      <th></th>\n",
       "      <th></th>\n",
       "    </tr>\n",
       "  </thead>\n",
       "  <tbody>\n",
       "    <tr>\n",
       "      <th>Rural</th>\n",
       "      <td>125</td>\n",
       "      <td>0.052632</td>\n",
       "    </tr>\n",
       "    <tr>\n",
       "      <th>Suburban</th>\n",
       "      <td>625</td>\n",
       "      <td>0.263158</td>\n",
       "    </tr>\n",
       "    <tr>\n",
       "      <th>Urban</th>\n",
       "      <td>1625</td>\n",
       "      <td>0.684211</td>\n",
       "    </tr>\n",
       "  </tbody>\n",
       "</table>\n",
       "</div>"
      ],
      "text/plain": [
       "          ride_id  Pct_total_rides\n",
       "type                              \n",
       "Rural         125         0.052632\n",
       "Suburban      625         0.263158\n",
       "Urban        1625         0.684211"
      ]
     },
     "execution_count": 71,
     "metadata": {},
     "output_type": "execute_result"
    }
   ],
   "source": [
    "#get the percentages for the pie chart\n",
    "pct_rides = type_rides_df[\"ride_id\"]/total_ride\n",
    "type_rides_df[\"Pct_total_rides\"] = pct_rides\n",
    "type_rides_df"
   ]
  },
  {
   "cell_type": "code",
   "execution_count": null,
   "metadata": {},
   "outputs": [],
   "source": []
  },
  {
   "cell_type": "code",
   "execution_count": 73,
   "metadata": {},
   "outputs": [
    {
     "data": {
      "image/png": "[encoded data removed]",
      "text/plain": [
       "<Figure size 432x288 with 1 Axes>"
      ]
     },
     "metadata": {},
     "output_type": "display_data"
    }
   ],
   "source": [
    "#rider pie chart\n",
    "ride_pie = type_rides_df.plot(kind=\"pie\", y=\"Pct_total_rides\", title=\"% of Total Rides by City Type\", labels=[\"Rural\", \"Suburban\", \"Urban\"],\n",
    "                             colors=[\"gold\", \"lightskyblue\", \"lightcoral\"], autopct=\"%2.1f%%\", explode = [0, 0, 0.1], shadow=True, startangle=145, legend=False)\n",
    "ride_pie.set_ylabel('')\n",
    "\n",
    "# Save Figure\n",
    "plt.savefig(\"../Images/RideCityType.png\")\n"
   ]
  },
  {
   "cell_type": "markdown",
   "metadata": {},
   "source": [
    "## Total Drivers by City Type"
   ]
  },
  {
   "cell_type": "code",
   "execution_count": 34,
   "metadata": {},
   "outputs": [],
   "source": [
    "#calc the drivers variable\n",
    "type_driver = type_group[\"driver_count\"].sum()\n",
    "type_driver_df = pd.DataFrame(type_driver)"
   ]
  },
  {
   "cell_type": "code",
   "execution_count": 35,
   "metadata": {},
   "outputs": [
    {
     "data": {
      "text/html": [
       "<div>\n",
       "<style scoped>\n",
       "    .dataframe tbody tr th:only-of-type {\n",
       "        vertical-align: middle;\n",
       "    }\n",
       "\n",
       "    .dataframe tbody tr th {\n",
       "        vertical-align: top;\n",
       "    }\n",
       "\n",
       "    .dataframe thead th {\n",
       "        text-align: right;\n",
       "    }\n",
       "</style>\n",
       "<table border=\"1\" class=\"dataframe\">\n",
       "  <thead>\n",
       "    <tr style=\"text-align: right;\">\n",
       "      <th></th>\n",
       "      <th>driver_count</th>\n",
       "      <th>Pct_total_drivers</th>\n",
       "    </tr>\n",
       "    <tr>\n",
       "      <th>type</th>\n",
       "      <th></th>\n",
       "      <th></th>\n",
       "    </tr>\n",
       "  </thead>\n",
       "  <tbody>\n",
       "    <tr>\n",
       "      <th>Rural</th>\n",
       "      <td>537</td>\n",
       "      <td>0.007816</td>\n",
       "    </tr>\n",
       "    <tr>\n",
       "      <th>Suburban</th>\n",
       "      <td>8570</td>\n",
       "      <td>0.124729</td>\n",
       "    </tr>\n",
       "    <tr>\n",
       "      <th>Urban</th>\n",
       "      <td>59602</td>\n",
       "      <td>0.867456</td>\n",
       "    </tr>\n",
       "  </tbody>\n",
       "</table>\n",
       "</div>"
      ],
      "text/plain": [
       "          driver_count  Pct_total_drivers\n",
       "type                                     \n",
       "Rural              537           0.007816\n",
       "Suburban          8570           0.124729\n",
       "Urban            59602           0.867456"
      ]
     },
     "execution_count": 35,
     "metadata": {},
     "output_type": "execute_result"
    }
   ],
   "source": [
    "#get the percentages for the pie chart\n",
    "pct_driver = type_driver_df[\"driver_count\"]/total_drivers\n",
    "type_driver_df[\"Pct_total_drivers\"] = pct_driver\n",
    "type_driver_df"
   ]
  },
  {
   "cell_type": "code",
   "execution_count": 76,
   "metadata": {},
   "outputs": [
    {
     "data": {
      "image/png": "[encoded data removed]",
      "text/plain": [
       "<Figure size 432x288 with 1 Axes>"
      ]
     },
     "metadata": {},
     "output_type": "display_data"
    }
   ],
   "source": [
    "#driver pie chart\n",
    "driver_pie = type_driver_df.plot(kind=\"pie\", y=\"Pct_total_drivers\", title=\"% of Total Drivers by City Type\", labels=[\"Rural\", \"Suburban\", \"Urban\"],\n",
    "                             colors=[\"gold\", \"lightskyblue\", \"lightcoral\"], autopct=\"%2.1f%%\", explode = [0, 0, 0.1], shadow=True, startangle=145, legend=False)\n",
    "driver_pie.set_ylabel('')\n",
    "\n",
    "# Save Figure\n",
    "plt.savefig(\"../Images/DriverCityType.png\")"
   ]
  },
  {
   "cell_type": "code",
   "execution_count": null,
   "metadata": {},
   "outputs": [],
   "source": []
  }
 ],
 "metadata": {
  "anaconda-cloud": {},
  "kernelspec": {
   "display_name": "Python 3",
   "language": "python",
   "name": "python3"
  },
  "language_info": {
   "codemirror_mode": {
    "name": "ipython",
    "version": 3
   },
   "file_extension": ".py",
   "mimetype": "text/x-python",
   "name": "python",
   "nbconvert_exporter": "python",
   "pygments_lexer": "ipython3",
   "version": "3.6.6"
  }
 },
 "nbformat": 4,
 "nbformat_minor": 2
}
